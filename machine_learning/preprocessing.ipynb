{
 "cells": [
  {
   "cell_type": "code",
   "id": "initial_id",
   "metadata": {
    "collapsed": true,
    "ExecuteTime": {
     "end_time": "2025-09-10T15:21:36.811597Z",
     "start_time": "2025-09-10T15:21:36.751602Z"
    }
   },
   "source": [
    "import pandas as pd\n",
    "from dateutil.parser import parse\n",
    "\n",
    "df = pd.read_csv('blood_data.csv', sep=';')\n",
    "\n",
    "df['date'] = [parse(row.loc['date']) for _, row in df.iterrows()]\n",
    "df = df.sort_values('date')\n",
    "df = df.reset_index(drop=True)\n",
    "\n",
    "tmp = [int(date.strftime(\"%W\")) + 52 * (int(date.strftime(\"%Y\")) - int(df['date'][0].strftime(\"%Y\"))) for date in df['date']]\n",
    "df.insert(1, 'week', tmp)\n",
    "\n",
    "df.drop(df.tail(4).index,inplace=True) # drop last 4 rows\n",
    "\n",
    "df.to_csv('blood_data (sorted).csv', sep=';', index=False)"
   ],
   "outputs": [],
   "execution_count": 50
  },
  {
   "metadata": {},
   "cell_type": "code",
   "outputs": [],
   "execution_count": null,
   "source": "",
   "id": "5a8d81070395aa58"
  }
 ],
 "metadata": {
  "kernelspec": {
   "display_name": "Python 3",
   "language": "python",
   "name": "python3"
  },
  "language_info": {
   "codemirror_mode": {
    "name": "ipython",
    "version": 2
   },
   "file_extension": ".py",
   "mimetype": "text/x-python",
   "name": "python",
   "nbconvert_exporter": "python",
   "pygments_lexer": "ipython2",
   "version": "2.7.6"
  }
 },
 "nbformat": 4,
 "nbformat_minor": 5
}
